{
  "nbformat": 4,
  "nbformat_minor": 0,
  "metadata": {
    "colab": {
      "private_outputs": true,
      "provenance": [],
      "include_colab_link": true
    },
    "kernelspec": {
      "name": "python3",
      "display_name": "Python 3"
    },
    "language_info": {
      "name": "python"
    }
  },
  "cells": [
    {
      "cell_type": "markdown",
      "metadata": {
        "id": "view-in-github",
        "colab_type": "text"
      },
      "source": [
        "<a href=\"https://colab.research.google.com/github/dibyajyoti007/Global-Terrorism-Data-Analytics/blob/main/Global_Terrorism_Data_Analytics.ipynb\" target=\"_parent\"><img src=\"https://colab.research.google.com/assets/colab-badge.svg\" alt=\"Open In Colab\"/></a>"
      ]
    },
    {
      "cell_type": "markdown",
      "source": [
        "# **Project Name**    -\n",
        "\n"
      ],
      "metadata": {
        "id": "vncDsAP0Gaoa"
      }
    },
    {
      "cell_type": "markdown",
      "source": [
        "##### **Project Type**    - EDA Project on 'Global Terrorism Data Analytics'\n",
        "##### **Contribution**    - Individual\n",
        "##### **Submitted by  -**  Dibyajyoti Dutta\n"
      ],
      "metadata": {
        "id": "beRrZCGUAJYm"
      }
    },
    {
      "cell_type": "markdown",
      "source": [
        "# **Project Summary -**"
      ],
      "metadata": {
        "id": "FJNUwmbgGyua"
      }
    },
    {
      "cell_type": "markdown",
      "source": [
        "The Global Terrorism Database (GTD) is an open-source database including information on terrorist attacks around the world from 1970 through 2017. The GTD includes systematic data on domestic as well as international terrorist incidents that have occurred during this time period and now includes more than 180,000 attacks. The database is maintained by researchers at the National Consortium for the Study of Terrorism and Responses to Terrorism (START), headquartered at the University of Maryland.\n",
        "\n",
        "Statistical information contained in the Global Terrorism Database is based on reports from a variety of open media sources. Information is not added to the GTD unless and until we have determined the sources are credible. Users should not infer any additional actions or results beyond what is presented in a GTD entry and specifically, users should not infer an individual associated with a particular incident was tried and convicted of terrorism or any other criminal offense. If new documentation about an event becomes available, an entry may be modified, as necessary and appropriate.\n",
        "\n",
        "The National Consortium for the Study of Terrorism and Responses to Terrorism (START) makes the GTD available via this online interface in an effort to increase understanding of terrorist violence so that it can be more readily studied and defeated.\n",
        "\n",
        "Characteristics of the GTD\n",
        "Contains information on over 180,000 terrorist attacks\n",
        "Currently the most comprehensive unclassified database on terrorist attacks in the world\n",
        "Includes information on more than 88,000 bombings, 19,000 assassinations, and 11,000 kidnappings since 1970\n",
        "Includes information on at least 45 variables for each case, with more recent incidents including information on more than 120 variables\n",
        "More than 4,000,000 news articles and 25,000 news sources were reviewed to collect incident data from 1998 to 2017 alone."
      ],
      "metadata": {
        "id": "11B5PvUpy3YB"
      }
    },
    {
      "cell_type": "markdown",
      "source": [
        "# **GitHub Link -**"
      ],
      "metadata": {
        "id": "w6K7xa23Elo4"
      }
    },
    {
      "cell_type": "markdown",
      "source": [
        "Provide your GitHub Link here."
      ],
      "metadata": {
        "id": "h1o69JH3Eqqn"
      }
    },
    {
      "cell_type": "markdown",
      "source": [
        "# **Problem Statement**\n"
      ],
      "metadata": {
        "id": "yQaldy8SH6Dl"
      }
    },
    {
      "cell_type": "markdown",
      "source": [
        "Using The Exploratory Data Analysis(EDA) techniques on The Global Terrorist Attack(GTA) dataset we have came accross many problems regarding terrorist attack patterns across different regions on the Globe.\n",
        "With the study of the given data set we can study on the patterns of terrorist activities and deduce security issues those can later help to construct counter-terrorist strategies to prevent the upcomming terrorist activities."
      ],
      "metadata": {
        "id": "DpeJGUA3kjGy"
      }
    },
    {
      "cell_type": "markdown",
      "source": [
        "#### **Define Your Business Objective?**"
      ],
      "metadata": {
        "id": "PH-0ReGfmX4f"
      }
    },
    {
      "cell_type": "markdown",
      "source": [
        "With the given dataset on 'Global Terrorist Attack'(GDA), there are many possible business queries we can have answers to. Some of the major problems we have discussed and visualized in this project are:  \n",
        "\n",
        "1. The evolving terrorism attacks throughout the recorded time (1970 to 2017) : Here we have came across timeline of terrorist attacks and observe at which period of time the terrorist attacks were high or low.\n",
        "\n",
        "2. Global distribution of attack patterns within different regions of the world: Here we study the hot zones of the regions where the attacks are most frequent and suffered the most.\n",
        "\n",
        "3. Main weaponary and attack techniques used in order to proceed the planned attacks: Here we observe the medium of attacks by terrorists like what methods or weaponaries were used most frequently during the attacks.\n",
        "\n",
        "4. Total number of people killed as well as wounded because of these attacks: Here we study what are the major consiquences of the attacks, like casualities and injuries occured due to the cruel attacks by different terrorist groups.\n",
        "\n",
        "* and more\n"
      ],
      "metadata": {
        "id": "PhDvGCAqmjP1"
      }
    },
    {
      "cell_type": "markdown",
      "source": [
        "# ***Let's Begin !***     ✌"
      ],
      "metadata": {
        "id": "O_i_v8NEhb9l"
      }
    },
    {
      "cell_type": "markdown",
      "source": [
        "## ***1. Know Your Data***"
      ],
      "metadata": {
        "id": "HhfV-JJviCcP"
      }
    },
    {
      "cell_type": "markdown",
      "source": [
        "### Import Libraries"
      ],
      "metadata": {
        "id": "Y3lxredqlCYt"
      }
    },
    {
      "cell_type": "code",
      "source": [
        "import pandas as pd                      # importing pandas library\n",
        "import numpy as np                       # importing numpy library\n",
        "import matplotlib.pyplot as plt          # importing matplot library\n",
        "import seaborn as sns                    # importing seaborn library\n",
        "import missingno as msno                 # importing missingno library"
      ],
      "metadata": {
        "id": "M8Vqi-pPk-HR"
      },
      "execution_count": null,
      "outputs": []
    },
    {
      "cell_type": "markdown",
      "source": [
        "### Dataset Loading"
      ],
      "metadata": {
        "id": "3RnN4peoiCZX"
      }
    },
    {
      "cell_type": "code",
      "execution_count": null,
      "metadata": {
        "id": "W9kD0BAaXV-o"
      },
      "outputs": [],
      "source": [
        "from google.colab import drive\n",
        "drive.mount('/content/drive')            # mounting google drive into colab"
      ]
    },
    {
      "cell_type": "code",
      "execution_count": null,
      "metadata": {
        "id": "YYhSV2OHyKTB"
      },
      "outputs": [],
      "source": [
        "df = pd.read_csv('/content/drive/MyDrive/alma/Global Terrorism Data.csv')        # getting the csv file dataset\n"
      ]
    },
    {
      "cell_type": "markdown",
      "source": [
        "### Dataset First View"
      ],
      "metadata": {
        "id": "x71ZqKXriCWQ"
      }
    },
    {
      "cell_type": "code",
      "source": [
        "df.head(5)                                                                       # printing first 5 rows from the dataframe"
      ],
      "metadata": {
        "id": "LWNFOSvLl09H"
      },
      "execution_count": null,
      "outputs": []
    },
    {
      "cell_type": "code",
      "execution_count": null,
      "metadata": {
        "id": "wgDJUoRA0VlR"
      },
      "outputs": [],
      "source": [
        "df.tail(5)           # printing last 5 rows from the dataframe"
      ]
    },
    {
      "cell_type": "markdown",
      "source": [
        "### Dataset Rows & Columns count"
      ],
      "metadata": {
        "id": "7hBIi_osiCS2"
      }
    },
    {
      "cell_type": "code",
      "execution_count": null,
      "metadata": {
        "id": "0WO3WPoyrrDH"
      },
      "outputs": [],
      "source": [
        "rows, columns = df.shape\n",
        "print('Number of rows are :', rows)             # printing number of rows\n",
        "print('Number of columns are: ',columns)        # printing number of columns"
      ]
    },
    {
      "cell_type": "markdown",
      "source": [
        "### Dataset Information"
      ],
      "metadata": {
        "id": "JlHwYmJAmNHm"
      }
    },
    {
      "cell_type": "code",
      "execution_count": null,
      "metadata": {
        "id": "YYUopLjM0cXe"
      },
      "outputs": [],
      "source": [
        "df.info()                # getting basic information about the dataframe"
      ]
    },
    {
      "cell_type": "markdown",
      "source": [
        "#### Duplicate Values"
      ],
      "metadata": {
        "id": "35m5QtbWiB9F"
      }
    },
    {
      "cell_type": "code",
      "execution_count": null,
      "metadata": {
        "id": "ZE_p3yZNsyXl"
      },
      "outputs": [],
      "source": [
        "duplicates = df.duplicated().sum()             # checking for any duplicate values\n",
        "\n",
        "print('Number of duplicate values are :', duplicates)"
      ]
    },
    {
      "cell_type": "markdown",
      "source": [
        "#### Missing Values/Null Values"
      ],
      "metadata": {
        "id": "PoPl-ycgm1ru"
      }
    },
    {
      "cell_type": "code",
      "execution_count": null,
      "metadata": {
        "id": "R12M0Rj6zXFk"
      },
      "outputs": [],
      "source": [
        "null_val = df.isnull().sum().sort_values(ascending = False)           # display number of null values on each columns\n",
        "\n",
        "print(null_val)"
      ]
    },
    {
      "cell_type": "code",
      "execution_count": null,
      "metadata": {
        "id": "sBP_hhivtVUS"
      },
      "outputs": [],
      "source": [
        "check_nulls = msno.bar(df)              # simple bar visualization to check the null values at each columns\n",
        "print(check_nulls)"
      ]
    },
    {
      "cell_type": "markdown",
      "source": [
        "### What did you know about your dataset?"
      ],
      "metadata": {
        "id": "H0kj-8xxnORC"
      }
    },
    {
      "cell_type": "markdown",
      "source": [
        "From the above study of the dataset, we come to know the basic information about it, like :  \n",
        "* Number of rows : 181691\n",
        "* Number of columns :  135\n",
        "* Number of duplicate values : 0\n",
        "* datatypes :\n",
        "        Number of integer variables(int64) -> 22\n",
        "        Number of float variables(float64) -> 55\n",
        "        Number of character variables(object) -> 58\n",
        "\n",
        "* Memory size : 187.1+ MB\n",
        "* Total number of rows containing atleat 1 null values : 28\n",
        "* data rows those contains null values :     \n",
        "        gsubname3, weapsubtype4_txt, weapsubtype4, weaptype4, weaptype4_txt, claimmode3, claimmode3_txt, gsubname2, claim3,  guncertain3, gname3, divert, attacktype3, attacktype3_txt, ransomnote, ransompaidus, ransomamtus, claimmode2, claimmode2_txt, ransompaid, corp3, targsubtype3,  targsubtype3_txt, natlty3_txt, natlty3, target3, targtype3, targtype3_txt, ransomamt, weapsubtype3_txt, weapsubtype3, weaptype3_txt, weaptype3, claim2, guncertain2, gname2, resolution, kidhijcountry, nhours, compclaim, gsubname, attacktype2, attacktype2_txt, ndays, approxdate, corp2, nreleased, targsubtype2, targsubtype2_txt, natlty2, natlty2_txt, hostkidoutcome_txt, hostkidoutcome, target2, targtype2_txt, targtype2, weapsubtype2, weapsubtype2_txt,  weaptype2, weaptype2_txt, nhostkidus, nhostkid, claimmode_txt, claimmode, related, addnotes, alternative, alternative_txt, propvalue, scite3, motive, location, propcomment, propextent, propextent_txt, scite2, ransom, nperps, nperpcap, nwoundte, weapdetail, nkillter, scite1, summary, claimed, nwoundus, nkillus, corp1, weapsubtype1, weapsubtype1_txt, nwound, targsubtype1, targsubtype1_txt, nkill, longitude, latitude, natlty1, natlty1_txt, target1, city, provstate, guncertain1, ishostkid, specificity, doubtterr, multiple"
      ],
      "metadata": {
        "id": "gfoNAAC-nUe_"
      }
    },
    {
      "cell_type": "markdown",
      "source": [
        "## ***2. Understanding Your Variables***"
      ],
      "metadata": {
        "id": "nA9Y7ga8ng1Z"
      }
    },
    {
      "cell_type": "code",
      "execution_count": null,
      "metadata": {
        "id": "6792sV960l5V"
      },
      "outputs": [],
      "source": [
        "columns = df.columns             # printing all the column names\n",
        "\n",
        "for col in columns:\n",
        "  print(col)"
      ]
    },
    {
      "cell_type": "code",
      "execution_count": null,
      "metadata": {
        "id": "cYgoROnCuQKn"
      },
      "outputs": [],
      "source": [
        "numerical_calc = df.describe()              # printing basic numerical calculations\n",
        "\n",
        "print(numerical_calc)"
      ]
    },
    {
      "cell_type": "markdown",
      "source": [
        "### Variables Description"
      ],
      "metadata": {
        "id": "PBTbrJXOngz2"
      }
    },
    {
      "cell_type": "markdown",
      "source": [
        "As the dataset has large number of rows, we only need few columns to study for this EDA project, such as :     \n",
        "* eventid : Unique id for each terrorist attack.\n",
        "* iyear : the year when the attack occurred.\n",
        "* imonth : the month when the attack occurred.\n",
        "* iday : the day when the attack occurred.\n",
        "* country_txt : name of the country where the attack occurred.\n",
        "* region_txt : name of the region where the attack occurred.\n",
        "* city : name of the city where the attack occurred.\n",
        "* attacktype1_txt : the type of attack did by the terrorists.\n",
        "* latitude : the latitude degree of the attack location.   \n",
        "* longitude : the longitude degree of the attack location.\n",
        "* nkill : the total death count on the attack.\n",
        "* targtype1_txt : what type of motive did the attack had as target.\n",
        "* gname : the terrorist group involved in the attack.\n",
        "* weaptype1_txt : the primary weapon type used for the attack.\n",
        "\n"
      ],
      "metadata": {
        "id": "aJV4KIxSnxay"
      }
    },
    {
      "cell_type": "markdown",
      "source": [
        "### Check Unique Values for each variable."
      ],
      "metadata": {
        "id": "u3PMJOP6ngxN"
      }
    },
    {
      "cell_type": "code",
      "execution_count": null,
      "metadata": {
        "id": "vyRXUvYHx0PL"
      },
      "outputs": [],
      "source": [
        "unique_region = df['region_txt'].unique()                 # print all unique value of Region column\n",
        "print(unique_region)\n",
        "\n",
        "print()\n",
        "\n",
        "unique_countries = df['country_txt'].unique()             # print all unique value of Country column\n",
        "print(unique_countries)\n",
        "\n"
      ]
    },
    {
      "cell_type": "markdown",
      "source": [
        "## 3. ***Data Wrangling***"
      ],
      "metadata": {
        "id": "dauF4eBmngu3"
      }
    },
    {
      "cell_type": "markdown",
      "source": [
        "### Data Wrangling Code"
      ],
      "metadata": {
        "id": "bKJF3rekwFvQ"
      }
    },
    {
      "cell_type": "code",
      "execution_count": null,
      "metadata": {
        "id": "0kZ83__Sz1Tt"
      },
      "outputs": [],
      "source": [
        "pd.set_option('display.max_rows', None)             # display datatypes for all the present columns\n",
        "\n",
        "df.dtypes"
      ]
    },
    {
      "cell_type": "code",
      "execution_count": null,
      "metadata": {
        "id": "30jjFkH35hb7"
      },
      "outputs": [],
      "source": [
        "null_val = df.isnull().sum().sort_values(ascending = False)           # display number of null values on each columns\n",
        "\n",
        "print(null_val)"
      ]
    },
    {
      "cell_type": "code",
      "source": [
        "#rename required columns for better understanding and operating\n",
        "\n",
        "df = df.rename(columns={'iyear':'Year', 'imonth':'Month', 'iday':'Day', 'country_txt':'Country', 'region_txt':'Region', 'provstate':'State',\n",
        "                        'city':'City', 'nwound':'Wounded', 'nkill':'Killed', 'attacktype1_txt':'Attack_type', 'targtype1_txt':'Target_type',\n",
        "                        'gname':'Gang_name', 'weaptype1_txt':'Primary_Weapon'})\n",
        "\n"
      ],
      "metadata": {
        "id": "KhJ7VGEUjQT6"
      },
      "execution_count": null,
      "outputs": []
    },
    {
      "cell_type": "code",
      "source": [
        "# create new dataframe from original dataframe using only required efficient columns\n",
        "\n",
        "new_df = df[['Year','Month', 'Day', 'Country', 'Region', 'State', 'City', 'latitude', 'longitude', 'individual', 'property', 'Killed',\n",
        "             'Wounded', 'Attack_type', 'Target_type', 'Gang_name', 'Primary_Weapon']]\n"
      ],
      "metadata": {
        "id": "WfxV6_RVpHAr"
      },
      "execution_count": null,
      "outputs": []
    },
    {
      "cell_type": "code",
      "source": [
        "new_df.head()               # print first 5 rows from the new dataframe"
      ],
      "metadata": {
        "id": "xX19PcUYwN8y"
      },
      "execution_count": null,
      "outputs": []
    },
    {
      "cell_type": "markdown",
      "source": [
        "### What all manipulations have you done and insights you found?"
      ],
      "metadata": {
        "id": "MSa1f5Uengrz"
      }
    },
    {
      "cell_type": "markdown",
      "source": [
        "There are 135 columns included in the given dataset. Upon that there are too many rows with missing values too. So learning and analyzing through the whole dataset is not meaningful. Therefore we have created a new dataset (new_df) including only the columns required for our particular EDA visualization."
      ],
      "metadata": {
        "id": "LbyXE7I1olp8"
      }
    },
    {
      "cell_type": "markdown",
      "source": [
        "## ***4. Data Vizualization, Storytelling & Experimenting with charts : Understand the relationships between variables***"
      ],
      "metadata": {
        "id": "GF8Ens_Soomf"
      }
    },
    {
      "cell_type": "markdown",
      "source": [
        "#### Chart - 1"
      ],
      "metadata": {
        "id": "0wOQAZs5pc--"
      }
    },
    {
      "cell_type": "code",
      "source": [
        "plt.figure(figsize=(15,5))                                                          # setting the size of the figure\n",
        "sns.countplot(data=new_df, x = 'Year')                                              # define the countplot\n",
        "plt.xlabel('Year', fontweight ='bold', fontsize = 13)                               # set the label for 'x' axis\n",
        "plt.ylabel('Count', fontweight ='bold', fontsize = 13)                              # set the label for 'y' axis\n",
        "plt.title('Total Terrorist Attacks per Year',fontweight ='bold', fontsize = 15)     # set the tittle of the graph\n",
        "plt.xticks(rotation = 90)                                                           # rotate the x variables by 90 degree anti-clockwise\n",
        "\n",
        "plt.show()                                                                          # display the figure"
      ],
      "metadata": {
        "id": "YtK6g9usypUt"
      },
      "execution_count": null,
      "outputs": []
    },
    {
      "cell_type": "markdown",
      "source": [
        "##### 1. Why did you pick the specific chart?"
      ],
      "metadata": {
        "id": "K5QZ13OEpz2H"
      }
    },
    {
      "cell_type": "markdown",
      "source": [
        "I have picked 'countplot' chart because it is most usefull to determine the count in variable over time period."
      ],
      "metadata": {
        "id": "XESiWehPqBRc"
      }
    },
    {
      "cell_type": "markdown",
      "source": [
        "##### 2. What is/are the insight(s) found from the chart?"
      ],
      "metadata": {
        "id": "lQ7QKXXCp7Bj"
      }
    },
    {
      "cell_type": "markdown",
      "source": [
        "Some insights has to be noted from the above visualization are :     \n",
        "* The year with highest terrorist attack is 2014 followed by the later year 2015.\n",
        "* The year with least number of attacks is 1971 and 1973.\n",
        "* Most amount of attacks are occurred in the later years of the record."
      ],
      "metadata": {
        "id": "C_j1G7yiqdRP"
      }
    },
    {
      "cell_type": "markdown",
      "source": [
        "##### 3. Will the gained insights help creating a positive business impact?\n",
        "Are there any insights that lead to negative growth? Justify with specific reason."
      ],
      "metadata": {
        "id": "448CDAPjqfQr"
      }
    },
    {
      "cell_type": "markdown",
      "source": [
        "Yes, the gained insight is quite helpful for creating counter-terrorism plans. As we can observe from the chart that the terrorist activities were quite cold at the beginning years and slight increament is seen by the mid period(1979 to 1992).\n",
        "But afterwards the attack rate drops by the year 1998, maintaining the drop rate till 2004.\n",
        "Unfortunatly, after the year 2004, the attack rate went through the roof constantly increasing and by the year 2014 crossing over 16,000 by count, dropping slightly afterwards.\n",
        "\n",
        "The observed records can be helpful to secret agencies and governments to make severe counter-terrorist plans as the graph suggests negative impact of increament in terrorist activities by the recent period of time.    "
      ],
      "metadata": {
        "id": "3cspy4FjqxJW"
      }
    },
    {
      "cell_type": "markdown",
      "source": [
        "#### Chart - 2"
      ],
      "metadata": {
        "id": "KSlN3yHqYklG"
      }
    },
    {
      "cell_type": "code",
      "source": [
        "plt.figure(figsize=(13,5))                                                           # setting the size of the figure\n",
        "plt.xlabel('count', fontweight ='bold', fontsize = 15)                               # set the label for 'x' axis\n",
        "plt.ylabel('Region', fontweight ='bold', fontsize = 15)                              # set the label for 'y' axis\n",
        "sns.countplot(data=new_df, y='Region')                                               # define the countplot\n",
        "plt.title('Total Death Count by Region', fontweight ='bold', fontsize = 15)          # set the tittle of the graph\n",
        "\n",
        "plt.show()                                                                           # display the graph"
      ],
      "metadata": {
        "id": "sOVYMB_Z3Fn6"
      },
      "execution_count": null,
      "outputs": []
    },
    {
      "cell_type": "markdown",
      "source": [
        "##### 1. Why did you pick the specific chart?"
      ],
      "metadata": {
        "id": "t6dVpIINYklI"
      }
    },
    {
      "cell_type": "markdown",
      "source": [
        "I have picked 'countplot' chart because the analysis is based on the catagorical data of terrorist attacks on different region.  "
      ],
      "metadata": {
        "id": "5aaW0BYyYklI"
      }
    },
    {
      "cell_type": "markdown",
      "source": [
        "##### 2. What is/are the insight(s) found from the chart?"
      ],
      "metadata": {
        "id": "ijmpgYnKYklI"
      }
    },
    {
      "cell_type": "markdown",
      "source": [
        "The following insigts are obtained from the visualization :         \n",
        "* The most terorrist attacks took place in the 'middle east and North Africa' region having over 50,000 attacks alone.\n",
        "* The second most hotspot region for terrorist attack is 'South Asia' with about 44,000 attacks.\n",
        "* And 'Australia and Oceania' is the least terrorist attack region."
      ],
      "metadata": {
        "id": "PSx9atu2YklI"
      }
    },
    {
      "cell_type": "markdown",
      "source": [
        "##### 3. Will the gained insights help creating a positive business impact?\n",
        "Are there any insights that lead to negative growth? Justify with specific reason."
      ],
      "metadata": {
        "id": "-JiQyfWJYklI"
      }
    },
    {
      "cell_type": "markdown",
      "source": [
        "Yes, The insights derived from the above analytics can be very helpful.\n",
        "According to our observation, the hottest region where most of the terrorist attacks were occurred is 'Middle Eastern and North African' region. The count of attacks goes above 50,000 in number.This region has countries like Iran, Iraq, Saudi Arabia, Syria, Jordan, Kuwait etc.\n",
        "The following region having second highest number of terrorist attacks is 'South Asia' with above 40,000 attacks in total. This is the region where country like India, Sri Lanka, Pakistan are included.\n",
        "The least terrorist influenced region is 'Australia and Oceania' with very minimal terrorist activities.\n",
        "\n",
        "So, The insights that are derived within the scope of our observation is very helpful to local government and peace keeping organizations of the respective regions in order to take counter-terrorist measures against the upcomming possible terrorist attacks."
      ],
      "metadata": {
        "id": "BcBbebzrYklV"
      }
    },
    {
      "cell_type": "markdown",
      "source": [
        "#### Chart - 3"
      ],
      "metadata": {
        "id": "EM7whBJCYoAo"
      }
    },
    {
      "cell_type": "code",
      "source": [
        "reg = pd.crosstab(new_df.Year, new_df.Region)                                          # create 'reg' variable to define Year and Region values\n",
        "\n",
        "reg.plot(kind='area', stacked=False, alpha=0.5, figsize=(15,6))                        # create area graph\n",
        "\n",
        "plt.xlabel('Year', fontweight ='bold', fontsize = 15)                                  # set the label for 'x' axis\n",
        "plt.ylabel('Region', fontweight ='bold', fontsize = 15)                                # set the label for 'y' axis\n",
        "\n",
        "plt.title('Terrorist Attacks on Regions by Year',fontweight ='bold',fontsize = 15)     # set the tittle of the graph\n",
        "\n",
        "plt.show()                                                                             # display the graph"
      ],
      "metadata": {
        "id": "Jxn555Br3onV"
      },
      "execution_count": null,
      "outputs": []
    },
    {
      "cell_type": "markdown",
      "source": [
        "##### 1. Why did you pick the specific chart?"
      ],
      "metadata": {
        "id": "fge-S5ZAYoAp"
      }
    },
    {
      "cell_type": "markdown",
      "source": [
        "I have picked 'area' chart in this analysis, because it is best plot to show the varience in catagorical data 'region' over a continuous plane 'year'."
      ],
      "metadata": {
        "id": "5dBItgRVYoAp"
      }
    },
    {
      "cell_type": "markdown",
      "source": [
        "##### 2. What is/are the insight(s) found from the chart?"
      ],
      "metadata": {
        "id": "85gYPyotYoAp"
      }
    },
    {
      "cell_type": "markdown",
      "source": [
        "The major insights we obtained from this particular chart are :    \n",
        "* The most hot zone of a region where terrorist attacks were noticeably major is Midddle East and North Africa and the attacks were most frequent on the year 2014 and around. Follwing second hottest region is South Asia.\n",
        "* On the same year(2014), The terrorist activities were highest on almost all the regions.\n",
        "* On the average, around year 2000, the minimal attacks accross all the regions can be observed."
      ],
      "metadata": {
        "id": "4jstXR6OYoAp"
      }
    },
    {
      "cell_type": "markdown",
      "source": [
        "##### 3. Will the gained insights help creating a positive business impact?\n",
        "Are there any insights that lead to negative growth? Justify with specific reason."
      ],
      "metadata": {
        "id": "RoGjAbkUYoAp"
      }
    },
    {
      "cell_type": "markdown",
      "source": [
        "Yes, The insights derived from the above analytics can be very helpful.\n",
        "The terrorist attacks over different regions according to different time period can help in better preperations for counter-terrorist majors by the regional security agencies. It can also help them to predict upcomming terrorist activities in the future years according to the particular region's attack distribution patterns.\n",
        "\n",
        "The graph definatly show negative impact of the terrorist with the help of positive quantitative growth in attack counts by year."
      ],
      "metadata": {
        "id": "zfJ8IqMcYoAp"
      }
    },
    {
      "cell_type": "markdown",
      "source": [
        "#### Chart - 4"
      ],
      "metadata": {
        "id": "4Of9eVA-YrdM"
      }
    },
    {
      "cell_type": "code",
      "source": [
        "from seaborn.categorical import EstimateAggregator\n",
        "plt.figure(figsize=(15,5))                                                               # set figure size\n",
        "\n",
        "plt.xlabel('Year', fontweight ='bold', fontsize = 15)                                    # set the label for 'x' axis\n",
        "plt.ylabel('Kill_Count', fontweight ='bold', fontsize = 15)                              # set the label for 'y' axis\n",
        "\n",
        "sns.lineplot(data=new_df, x='Year', y='Killed', estimator='sum')                         # create line graph estimating sum of 2 variables\n",
        "plt.title('Total Number of People Killed by Year',fontweight ='bold',fontsize = 15)      # set the title for the graph\n",
        "\n",
        "plt.show()                                                                               # display the graph"
      ],
      "metadata": {
        "id": "jQTOchuZ6V_1"
      },
      "execution_count": null,
      "outputs": []
    },
    {
      "cell_type": "markdown",
      "source": [
        "##### 1. Why did you pick the specific chart?"
      ],
      "metadata": {
        "id": "iky9q4vBYrdO"
      }
    },
    {
      "cell_type": "markdown",
      "source": [
        "I have picked the 'Lineplot' graph for this particular analysis because we are comparing continuous numerical variable 'death count' to a periodic variable 'Year'.   "
      ],
      "metadata": {
        "id": "aJRCwT6DYrdO"
      }
    },
    {
      "cell_type": "markdown",
      "source": [
        "##### 2. What is/are the insight(s) found from the chart?"
      ],
      "metadata": {
        "id": "F6T5p64dYrdO"
      }
    },
    {
      "cell_type": "markdown",
      "source": [
        "The important insights we have found from the above analysis are :      \n",
        "* Most number of casualty due to terrorist attacks at global stage is around year 2014. Here about 50,000 people were killed by terorrist.\n",
        "* The least number of casualty is by the beginning few years of the given record, i.e, by the year 1970 to 1978. Here, the casualty were recorded bellow 10,000 as we noticed before the number of terrorist attacks were minimum."
      ],
      "metadata": {
        "id": "Xx8WAJvtYrdO"
      }
    },
    {
      "cell_type": "markdown",
      "source": [
        "##### 3. Will the gained insights help creating a positive business impact?\n",
        "Are there any insights that lead to negative growth? Justify with specific reason."
      ],
      "metadata": {
        "id": "y-Ehk30pYrdP"
      }
    },
    {
      "cell_type": "markdown",
      "source": [
        "Yes, This analysis can be very helpful for planning of counter terorism methods efficiently, as we can observe the deathcount per year and the spikes of its increament over the years.\n",
        "\n",
        "The highest deathcount according to the record is around the year 2014 (about 50,000 death counts) as highest number of terrorist attacks had taken place by the same year globally.\n",
        "\n",
        "With the line graph we can easily notice the peak rise of the death count was maximum at the later years. So we can conclude the positive rise of the data has negative rise in society."
      ],
      "metadata": {
        "id": "jLNxxz7MYrdP"
      }
    },
    {
      "cell_type": "markdown",
      "source": [
        "#### Chart - 5"
      ],
      "metadata": {
        "id": "bamQiAODYuh1"
      }
    },
    {
      "cell_type": "code",
      "source": [
        "plt.figure(figsize=(15,6))                                                                    # set the size of the figure\n",
        "\n",
        "group_df = new_df[new_df['Gang_name'] != 'Unknown']['Gang_name'].value_counts().head(10)      # create a variable of top 10 gang_name\n",
        "\n",
        "sns.barplot(x=group_df.values, y=group_df.index)                                              # create a bar graph\n",
        "plt.title('Top 10 Terrorist Groups at Global Stage', fontweight ='bold', fontsize = 15)       # set the title of graph\n",
        "plt.xlabel('Total Number of Attacks', fontweight ='bold', fontsize = 15)                      # set the label for 'x' axis\n",
        "plt.ylabel('Terrorist Group', fontweight ='bold', fontsize = 15)                              # set the label for 'y' axis\n",
        "\n",
        "plt.show()                                                                                    # display the graph"
      ],
      "metadata": {
        "id": "eq17SGRC8ueS"
      },
      "execution_count": null,
      "outputs": []
    },
    {
      "cell_type": "markdown",
      "source": [
        "##### 1. Why did you pick the specific chart?"
      ],
      "metadata": {
        "id": "QHF8YVU7Yuh3"
      }
    },
    {
      "cell_type": "markdown",
      "source": [
        "I have used 'Count' plot graph for this analysis because we need to carry out the visualization on a categorical data variable(Terrorist Group) against its total attack counts."
      ],
      "metadata": {
        "id": "dcxuIMRPYuh3"
      }
    },
    {
      "cell_type": "markdown",
      "source": [
        "##### 2. What is/are the insight(s) found from the chart?"
      ],
      "metadata": {
        "id": "GwzvFGzlYuh3"
      }
    },
    {
      "cell_type": "markdown",
      "source": [
        "The important insights we have observed from the above graph are :       \n",
        "* The most notorious terrorist group amongst all is 'Taliban'. They have made above 7000 attacks alone. With a very high rate of casualties involved.\n",
        "* The following terrorist group with second highest committed attacks is 'Islamic State of Iraq and The Levant(ISIL) with almost 6000 attempted attacks.\n",
        "* The least committed terrorist group on top 10 list is 'Kurdistan Worker's Party' with around 2000 attempted attacks."
      ],
      "metadata": {
        "id": "uyqkiB8YYuh3"
      }
    },
    {
      "cell_type": "markdown",
      "source": [
        "##### 3. Will the gained insights help creating a positive business impact?\n",
        "Are there any insights that lead to negative growth? Justify with specific reason."
      ],
      "metadata": {
        "id": "qYpmQ266Yuh3"
      }
    },
    {
      "cell_type": "markdown",
      "source": [
        "Yes , The analysis on the terrorist gang and their activity count can provide us very essential information regarding their behavioral attack patterns. And the government and agencies can monitor the terrorist activities of the particular group accordingly predicting that the more infamous the terorrist group will possibly cause more attacks.\n",
        "\n",
        "The insights says that the most infamous terrorist group is 'Taliban' caused highest attacks on middle east region.\n"
      ],
      "metadata": {
        "id": "_WtzZ_hCYuh4"
      }
    },
    {
      "cell_type": "markdown",
      "source": [
        "#### Chart - 6"
      ],
      "metadata": {
        "id": "OH-pJp9IphqM"
      }
    },
    {
      "cell_type": "code",
      "source": [
        "plt.figure(figsize=(12,5))                                                                            # set the size of the graph\n",
        "\n",
        "attack_df = new_df[new_df['Attack_type'] != 'Unknown']['Attack_type']                                 # create variable to get unique values\n",
        "\n",
        "sns.countplot(data= new_df, y= attack_df)                                                             # create a countplot\n",
        "plt.title('Death Count by Different Types of Terrorist Attacks',fontweight ='bold',fontsize = 15)     # set the title of the graph\n",
        "plt.xlabel('Death Count', fontweight ='bold', fontsize = 15)                                          # set label for 'x' axis\n",
        "plt.ylabel('Types of Attacks', fontweight ='bold', fontsize = 15)                                     # set label for 'x' axis\n",
        "\n",
        "plt.show()                                                                                            # display the graph\n"
      ],
      "metadata": {
        "id": "loOIf3qax4Xq"
      },
      "execution_count": null,
      "outputs": []
    },
    {
      "cell_type": "markdown",
      "source": [
        "##### 1. Why did you pick the specific chart?"
      ],
      "metadata": {
        "id": "bbFf2-_FphqN"
      }
    },
    {
      "cell_type": "markdown",
      "source": [
        "I have picked 'count' plot gragh for this particular analysis because we have derived the graph on the base of the total row count for a categorical data trend."
      ],
      "metadata": {
        "id": "loh7H2nzphqN"
      }
    },
    {
      "cell_type": "markdown",
      "source": [
        "##### 2. What is/are the insight(s) found from the chart?"
      ],
      "metadata": {
        "id": "_ouA3fa0phqN"
      }
    },
    {
      "cell_type": "markdown",
      "source": [
        "The insights we can obtain from this particular graph is the different types or methods of terrorist attacks used by terrorists. Some major information retreived from the analysis are :     \n",
        "* 'Bombing/Explosion' is the most common mode used by terrorist groups to attack. Above 80,000 death counts are recorded, where this method was used.\n",
        "* The second mostly used terrorism method is 'Armed Assault' having 40,000 plus death count so far.\n",
        "* And the least favourable attack methods for terrorism is 'Hijacking', due to motivated hostage situation."
      ],
      "metadata": {
        "id": "VECbqPI7phqN"
      }
    },
    {
      "cell_type": "markdown",
      "source": [
        "##### 3. Will the gained insights help creating a positive business impact?\n",
        "Are there any insights that lead to negative growth? Justify with specific reason."
      ],
      "metadata": {
        "id": "Seke61FWphqN"
      }
    },
    {
      "cell_type": "markdown",
      "source": [
        "The above graph provides some insights about the methods used by terrorists to succeed in their attacks. The analysis can be very useful to plan and prevent upcomming attacks by studying about the mostly used methods.\n",
        "\n",
        "The graph shows us that most popularly used method of attack is 'Bombing/Explosion'. Following that the second most popular method of attack is 'Armed Assault'. The least dangerous method used is 'Hijacking'.\n",
        "\n",
        "This analysis can be helpful for counter terrorist groups and government agencies to check constantly for margin of error in the security and appoint required force and techniques to prevent the planned terrorist attacks beforehand accordingly."
      ],
      "metadata": {
        "id": "DW4_bGpfphqN"
      }
    },
    {
      "cell_type": "markdown",
      "source": [
        "## **5. Solution to Business Objective**"
      ],
      "metadata": {
        "id": "JcMwzZxoAimU"
      }
    },
    {
      "cell_type": "markdown",
      "source": [
        "#### What do you suggest the client to achieve Business Objective ?\n",
        "Explain Briefly."
      ],
      "metadata": {
        "id": "8G2x9gOozGDZ"
      }
    },
    {
      "cell_type": "markdown",
      "source": [
        "On the basis of the Exploratory Analysis of the Global Terrorism Dataset(GTD), we can come accross different recommendations for counter-terrorism to interested clients in order to meet their business objectives.\n",
        "\n",
        "Annual trends on terrorist attacks :  This data shows us the increament or decreament in terrorism based on recorded years. So with study of the annual basis attacking patterns, derivatives of terrorism timings can be predicted in the future.\n",
        "\n",
        "Focusing on hotspot regions : The regions where we have seen with the highest terrorist attacks are needed to be prioritized on security. These regions might need more educative programs, socio-economical programs, better medical establishment and severe counter terrorist majors.\n",
        "\n",
        "Prioritizing major threat groups/terrorist groups : This is the study of most infamous terrorist groups according to the mass of their attacks. With the help of this records, intellegence efforts on the major groups can be monitored and that can prevent many future calamities.\n",
        "\n",
        "Study on mode of attacks :  This data distribution shows us the different types of weaponary and methods used for terrorism. With the study of the related data, preventing measures can be developed and utilized as responsive strategies. For example; if the Bombing/Explosives is the major mode of terrorist atttacks, prevention factors like more bomb detecting machineries and appointing active bomb squads can be utilized in hottest regions.\n",
        "\n"
      ],
      "metadata": {
        "id": "pASKb0qOza21"
      }
    },
    {
      "cell_type": "markdown",
      "source": [
        "# **Conclusion**"
      ],
      "metadata": {
        "id": "gCX9965dhzqZ"
      }
    },
    {
      "cell_type": "markdown",
      "source": [
        "The Global Terrorism Database(GTD) is a database including information on terrorist events around the world from 1970 through 2017. GTD includes systematic data on domestic as well as transnational and international terrorist incidents that have occurred during this time period and now includes more than 180,000 cases. For each GTD incident, information is available on the date and location of the incident, the weapons used and nature of the target, the number of casualties, when identifiable and the group or individual responsible.\n",
        "\n",
        "I have utilized google colab notebook to perform the detailed operations on the GTD dataset. Python libraries like Pandas, Numpy, Matplotlib, Seaborn etc were used to accomplish the analytical operations with Visualization. The EDA project was performed in 5 separate stages:  Data Overview, Understanding the Variables, Data Wrangling, Data Visualization and Approaching Business Objective.\n",
        "\n",
        "Throgh the project we have analyzed identification of attack trends over time, hotspot regions, casualities over time, involvement of major terrorist groups and preffered mode of attacks.\n",
        "\n",
        "To accomplish this project we need to come accross different domain studies of terrorism and the behaviours of different terrorist groups along with their modes and motives for attacks.\n",
        "\n",
        "The particular studies can establish potential business solutions for counter-terrorism groups accross the globe. Differet agencies as well as other government bodies can gain important insights from the included analysis to challenge the terrrorism and maintain peace in the world."
      ],
      "metadata": {
        "id": "Fjb1IsQkh3yE"
      }
    },
    {
      "cell_type": "markdown",
      "source": [
        "# Thank You...😊✨ #"
      ],
      "metadata": {
        "id": "bJRGsQ_0fZ3h"
      }
    }
  ]
}